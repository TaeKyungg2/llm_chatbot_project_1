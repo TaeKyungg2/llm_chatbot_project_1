{
 "cells": [
  {
   "cell_type": "code",
   "execution_count": 3,
   "id": "91db2da0",
   "metadata": {},
   "outputs": [],
   "source": [
    "# appendix-keywords.txt 파일을 열어서 f라는 파일 객체를 생성합니다.\n",
    "with open(\"/Users/pro/Desktop/live_study/hyunsoo/data/블로그_텍스트/blog_text1.txt\") as f:\n",
    "    file = f.read()  # 파일의 내용을 읽어서 file 변수에 저장합니다."
   ]
  },
  {
   "cell_type": "markdown",
   "id": "9ef18d9d",
   "metadata": {},
   "source": [
    "파일로부터 읽은 파일의 일부 내용을 출력합니다.\n"
   ]
  },
  {
   "cell_type": "code",
   "execution_count": 4,
   "id": "1a7163a5",
   "metadata": {},
   "outputs": [
    {
     "name": "stdout",
     "output_type": "stream",
     "text": [
      "“월급만으로 미래 준비하고 계신가요?”\n",
      "요즘 같은 고물가 시대에 단순한 저축만으로는 안정적인 미래를 기대하기 어렵습니다.\n",
      "하지만 바쁜 직장 생활 속에서도 실천할 수 있는 재테크 루틴은 분명히 존재합니다.\n",
      "이번 글에서는\n",
      "직장인이 지금 당장 실천 가능한 현실적 재테크 전략 6가지\n",
      "를 소개합니다.\n",
      "[1] 통장 쪼개기: 월급 통장을 적극적으로 관리하라\n",
      "많은 직장인들이 월급이 들어오는 통장을 하나로만 관리합니다.\n",
      "하지만 목적에 따라 통장을 구분하면\n",
      "불필요한 소비를 줄이고 자산 흐름을 파악하기 쉬워집니다.\n",
      "통장 종류\n",
      "목적\n",
      "급여 통장\n",
      "월급 수령 전용 (자동이체 최소화)\n",
      "고정지출 통장\n",
      "카드, 공과금, 보험 등 고정비용 이체용\n",
      "저축 통장\n",
      "매달 자동 이체로 저축\n",
      "투자 통장\n",
      "소액 투자, ETF, 펀드 등 자산 운용\n",
      "[2] 월 10만 원부터 시작하는 소액 투자\n",
      "많은 직장인들이 투자를 시작하기를 두려워합니다. 그러나 투자 경험이 없더라도\n",
      "소액부터 시작하는 투자\n",
      "는 필수입니다.\n",
      "추천 투자 방법\n",
      "적립식 ETF\n"
     ]
    }
   ],
   "source": [
    "# 파일으로부터 읽은 내용을 일부 출력합니다.\n",
    "print(file[:500])"
   ]
  },
  {
   "cell_type": "code",
   "execution_count": null,
   "id": "cbeb96e7",
   "metadata": {},
   "outputs": [],
   "source": [
    "from langchain_text_splitters import RecursiveCharacterTextSplitter"
   ]
  },
  {
   "cell_type": "code",
   "execution_count": 13,
   "id": "adb43146",
   "metadata": {},
   "outputs": [],
   "source": [
    "text_splitter = RecursiveCharacterTextSplitter(\n",
    "    # 청크 크기를 매우 작게 설정합니다. 예시를 위한 설정입니다.\n",
    "    chunk_size=500,\n",
    "    # 청크 간의 중복되는 문자 수를 설정합니다.\n",
    "    chunk_overlap=100,\n",
    "    # 문자열 길이를 계산하는 함수를 지정합니다.\n",
    "    length_function=len,\n",
    "    # 구분자로 정규식을 사용할지 여부를 설정합니다.\n",
    "    is_separator_regex=False,\n",
    ")"
   ]
  },
  {
   "cell_type": "markdown",
   "id": "c5fd33f2",
   "metadata": {},
   "source": [
    "- `text_splitter`를 사용하여 `file` 텍스트를 문서 단위로 분할합니다.\n",
    "- 분할된 문서는 `texts` 리스트에 저장됩니다.\n",
    "- `print(texts[0])`과 `print(texts[1])`을 통해 분할된 문서의 첫 번째와 두 번째 문서를 출력합니다.\n"
   ]
  },
  {
   "cell_type": "code",
   "execution_count": 14,
   "id": "20d62b15",
   "metadata": {},
   "outputs": [
    {
     "name": "stdout",
     "output_type": "stream",
     "text": [
      "page_content='[2] 월 10만 원부터 시작하는 소액 투자\n",
      "많은 직장인들이 투자를 시작하기를 두려워합니다. 그러나 투자 경험이 없더라도\n",
      "소액부터 시작하는 투자\n",
      "는 필수입니다.\n",
      "추천 투자 방법\n",
      "적립식 ETF 투자\n",
      ": 매월 일정 금액을 S&P500, 코스피200 ETF에 투자\n",
      "로보어드바이저 활용\n",
      ": 전문가처럼 자산 배분을 자동으로 해주는 서비스\n",
      "적립식 펀드\n",
      ": 매달 자동으로 펀드에 적립, 장기 투자 지향\n",
      "[2] 월 10만 원부터 시작하는 소액 투자\n",
      "💬\n",
      "중요한 건 금액이 아니라 '시작하는 것'입니다.\n",
      "투자가 어렵고 겁난다면\n",
      "ETF 정액 투자\n",
      "부터 시작하세요.\n",
      "처음에는 한 달에 10만 원 정도로 시작해 투자 습관을 들이고, 이후 수익과 투자 방식에 익숙해지면 점진적으로 금액을 늘려가는 것이 좋습니다.\n",
      "https://darich.tistory.com/entry/ETF-%EC%A0%95%EC%95%A1-%ED%88%AC%EC%9E%90%EB%9E%80\n",
      "[3] 비상금 계좌 마련: 만약을 대비하라'\n",
      "============================================================\n",
      "page_content='[3] 비상금 계좌 마련: 만약을 대비하라\n",
      "갑작스러운 병원비, 수리비, 실직 등 누구에게나 올 수 있습니다.\n",
      "따라서\n",
      "비상금은 자산 보호의 최후 방어선입니다.\n",
      "최소 3~6개월치 생활비 확보\n",
      "CMA 통장 or 파킹통장에 예치 → 유동성 + 이자\n",
      "⚠️\n",
      "투자금과 비상금은 절대 구분하세요.\n",
      "[4] 소비 습관 다이어트: 의미 없는 소비 줄이기\n",
      "무조건 아끼는 게 아니라,\n",
      "불필요한 소비를 파악하고 줄이는 것\n",
      "이 핵심입니다.\n",
      "💳 카드 명세서 분석 → 소비 패턴 점검\n",
      "🔄 자동결제 점검 → 사용 안 하는 구독 해지\n",
      "📱 무지성 소액결제 차단 → 소액도 모이면 큰 지출\n",
      "🧠\n",
      "한 달 카드내역을 엑셀에 정리하는 습관부터!\n",
      "[5] 자기계발: 가장 확실한 수익률\n",
      "재테크는 단순히 돈을 불리는 것이 아니라\n",
      "자신을 성장시키는 과정\n",
      "이기도 합니다.\n",
      "자격증 취득 → 승진, 연봉 인상\n",
      "외국어 학습 → 이직/해외업무 확장\n",
      "파이썬, 엑셀 등 디지털 역량 강화 → 수입원 다양화\n",
      "✨\n",
      "지식은 감가상각되지 않는 자산입니다.'\n"
     ]
    }
   ],
   "source": [
    "# text_splitter를 사용하여 file 텍스트를 문서로 분할합니다.\n",
    "texts = text_splitter.create_documents([file])\n",
    "print(texts[1])  # 분할된 문서의 첫 번째 문서를 출력합니다.\n",
    "print(\"===\" * 20)\n",
    "print(texts[2])  # 분할된 문서의 두 번째 문서를 출력합니다."
   ]
  },
  {
   "cell_type": "markdown",
   "id": "22f4618a",
   "metadata": {},
   "source": [
    "`text_splitter.split_text()` 함수를 사용하여 `file` 텍스트를 분할합니다.\n"
   ]
  },
  {
   "cell_type": "code",
   "execution_count": 12,
   "id": "e0097650",
   "metadata": {},
   "outputs": [
    {
     "data": {
      "text/plain": [
       "['“월급만으로 미래 준비하고 계신가요?”\\n요즘 같은 고물가 시대에 단순한 저축만으로는 안정적인 미래를 기대하기 어렵습니다.\\n하지만 바쁜 직장 생활 속에서도 실천할 수 있는 재테크 루틴은 분명히 존재합니다.\\n이번 글에서는\\n직장인이 지금 당장 실천 가능한 현실적 재테크 전략 6가지\\n를 소개합니다.\\n[1] 통장 쪼개기: 월급 통장을 적극적으로 관리하라\\n많은 직장인들이 월급이 들어오는 통장을 하나로만 관리합니다.\\n하지만 목적에 따라 통장을 구분하면',\n",
       " '하지만 목적에 따라 통장을 구분하면\\n불필요한 소비를 줄이고 자산 흐름을 파악하기 쉬워집니다.\\n통장 종류\\n목적\\n급여 통장\\n월급 수령 전용 (자동이체 최소화)\\n고정지출 통장\\n카드, 공과금, 보험 등 고정비용 이체용\\n저축 통장\\n매달 자동 이체로 저축\\n투자 통장\\n소액 투자, ETF, 펀드 등 자산 운용\\n[2] 월 10만 원부터 시작하는 소액 투자\\n많은 직장인들이 투자를 시작하기를 두려워합니다. 그러나 투자 경험이 없더라도\\n소액부터 시작하는 투자']"
      ]
     },
     "execution_count": 12,
     "metadata": {},
     "output_type": "execute_result"
    }
   ],
   "source": [
    "# 텍스트를 분할하고 분할된 텍스트의 처음 2개 요소를 반환합니다.\n",
    "text_splitter.split_text(file)[:2]"
   ]
  },
  {
   "cell_type": "code",
   "execution_count": null,
   "id": "8166ab4e",
   "metadata": {},
   "outputs": [],
   "source": []
  }
 ],
 "metadata": {
  "kernelspec": {
   "display_name": "test",
   "language": "python",
   "name": "python3"
  },
  "language_info": {
   "codemirror_mode": {
    "name": "ipython",
    "version": 3
   },
   "file_extension": ".py",
   "mimetype": "text/x-python",
   "name": "python",
   "nbconvert_exporter": "python",
   "pygments_lexer": "ipython3",
   "version": "3.12.2"
  }
 },
 "nbformat": 4,
 "nbformat_minor": 5
}
