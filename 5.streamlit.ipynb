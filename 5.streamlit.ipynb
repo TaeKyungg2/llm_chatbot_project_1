{
 "cells": [
  {
   "cell_type": "code",
   "execution_count": 2,
   "id": "9904ac71",
   "metadata": {},
   "outputs": [],
   "source": [
    "import streamlit as st\n",
    "from dotenv import load_dotenv\n",
    "import os\n",
    "from langchain_openai import OpenAIEmbeddings, ChatOpenAI\n",
    "from langchain_community.vectorstores import FAISS\n",
    "from langchain.chains import RetrievalQA"
   ]
  },
  {
   "cell_type": "code",
   "execution_count": 3,
   "id": "fbeaf800",
   "metadata": {},
   "outputs": [
    {
     "data": {
      "text/plain": [
       "True"
      ]
     },
     "execution_count": 3,
     "metadata": {},
     "output_type": "execute_result"
    }
   ],
   "source": [
    "load_dotenv()"
   ]
  },
  {
   "cell_type": "markdown",
   "id": "ddb6bfbb",
   "metadata": {},
   "source": [
    "## FAISS 벡터스토어 불러오기"
   ]
  },
  {
   "cell_type": "code",
   "execution_count": 6,
   "id": "3e26cca5",
   "metadata": {},
   "outputs": [],
   "source": [
    "@st.cache_resource\n",
    "def load_vectorstore():\n",
    "    embeddings = OpenAIEmbeddings(\n",
    "        model = \"text-embedding-3-small\",\n",
    "        dimensions = 1024\n",
    "    )\n",
    "    db = FAISS.load_local(\"my_faiss_index\",\n",
    "                        embeddings,\n",
    "                        allow_dangerous_deserialization=True)\n",
    "    return db\n",
    "\n",
    "db = load_vectorstore()"
   ]
  },
  {
   "cell_type": "markdown",
   "id": "92092b60",
   "metadata": {},
   "source": [
    "## streamlit 구현"
   ]
  },
  {
   "cell_type": "code",
   "execution_count": 7,
   "id": "1b2949cb",
   "metadata": {},
   "outputs": [
    {
     "name": "stderr",
     "output_type": "stream",
     "text": [
      "2025-07-31 11:23:25.061 Thread 'MainThread': missing ScriptRunContext! This warning can be ignored when running in bare mode.\n",
      "2025-07-31 11:23:25.062 Thread 'MainThread': missing ScriptRunContext! This warning can be ignored when running in bare mode.\n",
      "2025-07-31 11:23:25.072 Thread 'MainThread': missing ScriptRunContext! This warning can be ignored when running in bare mode.\n",
      "2025-07-31 11:23:25.095 Thread 'MainThread': missing ScriptRunContext! This warning can be ignored when running in bare mode.\n",
      "2025-07-31 11:23:25.097 Session state does not function when running a script without `streamlit run`\n",
      "2025-07-31 11:23:25.098 Thread 'MainThread': missing ScriptRunContext! This warning can be ignored when running in bare mode.\n",
      "2025-07-31 11:23:25.100 Thread 'MainThread': missing ScriptRunContext! This warning can be ignored when running in bare mode.\n",
      "2025-07-31 11:23:25.101 Thread 'MainThread': missing ScriptRunContext! This warning can be ignored when running in bare mode.\n",
      "2025-07-31 11:23:25.102 Thread 'MainThread': missing ScriptRunContext! This warning can be ignored when running in bare mode.\n",
      "2025-07-31 11:23:25.105 Thread 'MainThread': missing ScriptRunContext! This warning can be ignored when running in bare mode.\n",
      "2025-07-31 11:23:25.107 Thread 'MainThread': missing ScriptRunContext! This warning can be ignored when running in bare mode.\n",
      "2025-07-31 11:23:25.109 Thread 'MainThread': missing ScriptRunContext! This warning can be ignored when running in bare mode.\n",
      "2025-07-31 11:23:25.109 Thread 'MainThread': missing ScriptRunContext! This warning can be ignored when running in bare mode.\n",
      "2025-07-31 11:23:25.109 Thread 'MainThread': missing ScriptRunContext! This warning can be ignored when running in bare mode.\n",
      "2025-07-31 11:23:25.110 Thread 'MainThread': missing ScriptRunContext! This warning can be ignored when running in bare mode.\n",
      "2025-07-31 11:23:25.110 Thread 'MainThread': missing ScriptRunContext! This warning can be ignored when running in bare mode.\n",
      "2025-07-31 11:23:25.110 Thread 'MainThread': missing ScriptRunContext! This warning can be ignored when running in bare mode.\n",
      "2025-07-31 11:23:25.110 Thread 'MainThread': missing ScriptRunContext! This warning can be ignored when running in bare mode.\n",
      "2025-07-31 11:23:25.111 Thread 'MainThread': missing ScriptRunContext! This warning can be ignored when running in bare mode.\n",
      "2025-07-31 11:23:25.111 Thread 'MainThread': missing ScriptRunContext! This warning can be ignored when running in bare mode.\n",
      "2025-07-31 11:23:25.111 Thread 'MainThread': missing ScriptRunContext! This warning can be ignored when running in bare mode.\n",
      "2025-07-31 11:23:25.111 Thread 'MainThread': missing ScriptRunContext! This warning can be ignored when running in bare mode.\n",
      "2025-07-31 11:23:25.112 Thread 'MainThread': missing ScriptRunContext! This warning can be ignored when running in bare mode.\n",
      "2025-07-31 11:23:25.112 Thread 'MainThread': missing ScriptRunContext! This warning can be ignored when running in bare mode.\n"
     ]
    }
   ],
   "source": [
    "st.title(\"🏦💸재테크 전략 도우미 Chatbot🧠\")\n",
    "\n",
    "# 대화 히스토리를 session state에 저장\n",
    "if \"chat_history\" not in st.session_state:\n",
    "    st.session_state[\"chat_history\"] = []\n",
    "\n",
    "# 사용자가 입력할 챗봇 프롬프트\n",
    "user_input = st.text_input(\"메세지를 입력하세요\", key=\"user_input\")\n",
    "\n",
    "# 채팅 실행 버튼\n",
    "if st.button(\"전송\") and user_input.strip():\n",
    "    qa = RetrievalQA.from_chain_type(\n",
    "        llm=ChatOpenAI(model=\"gpt-4.1-mini\"),\n",
    "        retriever=db.as_retriever()\n",
    "    )\n",
    "    with st.spinner(\"답변을 생성하는 중...\"):\n",
    "        answer = qa.run(user_input)\n",
    "    st.session_state[\"chat_history\"].append((user_input, answer))\n",
    "\n",
    "# 대화 내역 표시\n",
    "st.subheader(\"대화 내역\")\n",
    "for q, a in reversed(st.session_state[\"chat_history\"]):\n",
    "    st.markdown(f\"**질문:** {q}\")\n",
    "    st.markdown(f\"**답변:** {a}\")\n",
    "    st.markdown(\"---\")"
   ]
  },
  {
   "cell_type": "code",
   "execution_count": null,
   "id": "474f0141",
   "metadata": {},
   "outputs": [],
   "source": []
  }
 ],
 "metadata": {
  "kernelspec": {
   "display_name": "test",
   "language": "python",
   "name": "python3"
  },
  "language_info": {
   "codemirror_mode": {
    "name": "ipython",
    "version": 3
   },
   "file_extension": ".py",
   "mimetype": "text/x-python",
   "name": "python",
   "nbconvert_exporter": "python",
   "pygments_lexer": "ipython3",
   "version": "3.12.2"
  }
 },
 "nbformat": 4,
 "nbformat_minor": 5
}
