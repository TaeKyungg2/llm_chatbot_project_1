{
 "cells": [
  {
   "cell_type": "code",
   "execution_count": 11,
   "id": "9904ac71",
   "metadata": {},
   "outputs": [],
   "source": [
    "import streamlit as st\n",
    "from dotenv import load_dotenv\n",
    "import os\n",
    "from langchain_openai import OpenAIEmbeddings, ChatOpenAI\n",
    "from langchain_community.vectorstores import FAISS\n",
    "from langchain.chains import RetrievalQA"
   ]
  },
  {
   "cell_type": "code",
   "execution_count": 12,
   "id": "fbeaf800",
   "metadata": {},
   "outputs": [
    {
     "data": {
      "text/plain": [
       "True"
      ]
     },
     "execution_count": 12,
     "metadata": {},
     "output_type": "execute_result"
    }
   ],
   "source": [
    "load_dotenv()"
   ]
  },
  {
   "cell_type": "markdown",
   "id": "ddb6bfbb",
   "metadata": {},
   "source": [
    "## FAISS 벡터스토어 불러오기"
   ]
  },
  {
   "cell_type": "code",
   "execution_count": 13,
   "id": "3e26cca5",
   "metadata": {},
   "outputs": [
    {
     "name": "stderr",
     "output_type": "stream",
     "text": [
      "2025-07-31 10:59:47.409 WARNING streamlit.runtime.scriptrunner_utils.script_run_context: Thread 'MainThread': missing ScriptRunContext! This warning can be ignored when running in bare mode.\n",
      "2025-07-31 10:59:47.526 \n",
      "  \u001b[33m\u001b[1mWarning:\u001b[0m to view this Streamlit app on a browser, run it with the following\n",
      "  command:\n",
      "\n",
      "    streamlit run /Users/pro/Desktop/live_study/test/lib/python3.12/site-packages/ipykernel_launcher.py [ARGUMENTS]\n",
      "2025-07-31 10:59:47.527 Thread 'MainThread': missing ScriptRunContext! This warning can be ignored when running in bare mode.\n",
      "2025-07-31 10:59:47.527 Thread 'MainThread': missing ScriptRunContext! This warning can be ignored when running in bare mode.\n",
      "2025-07-31 10:59:47.527 Thread 'MainThread': missing ScriptRunContext! This warning can be ignored when running in bare mode.\n",
      "2025-07-31 10:59:47.682 Thread 'MainThread': missing ScriptRunContext! This warning can be ignored when running in bare mode.\n",
      "2025-07-31 10:59:47.682 Thread 'MainThread': missing ScriptRunContext! This warning can be ignored when running in bare mode.\n",
      "2025-07-31 10:59:47.683 Thread 'MainThread': missing ScriptRunContext! This warning can be ignored when running in bare mode.\n"
     ]
    },
    {
     "ename": "ValueError",
     "evalue": "The de-serialization relies loading a pickle file. Pickle files can be modified to deliver a malicious payload that results in execution of arbitrary code on your machine.You will need to set `allow_dangerous_deserialization` to `True` to enable deserialization. If you do this, make sure that you trust the source of the data. For example, if you are loading a file that you created, and know that no one else has modified the file, then this is safe to do. Do not set this to `True` if you are loading a file from an untrusted source (e.g., some random site on the internet.).",
     "output_type": "error",
     "traceback": [
      "\u001b[31m---------------------------------------------------------------------------\u001b[39m",
      "\u001b[31mValueError\u001b[39m                                Traceback (most recent call last)",
      "\u001b[36mCell\u001b[39m\u001b[36m \u001b[39m\u001b[32mIn[13]\u001b[39m\u001b[32m, line 10\u001b[39m\n\u001b[32m      7\u001b[39m     db = FAISS.load_local(\u001b[33m\"\u001b[39m\u001b[33mmy_faiss_index\u001b[39m\u001b[33m\"\u001b[39m, embeddings)\n\u001b[32m      8\u001b[39m     \u001b[38;5;28;01mreturn\u001b[39;00m db\n\u001b[32m---> \u001b[39m\u001b[32m10\u001b[39m df = \u001b[43mload_vectorstore\u001b[49m\u001b[43m(\u001b[49m\u001b[43m)\u001b[49m\n",
      "\u001b[36mFile \u001b[39m\u001b[32m~/Desktop/live_study/test/lib/python3.12/site-packages/streamlit/runtime/caching/cache_utils.py:225\u001b[39m, in \u001b[36mCachedFunc.__call__\u001b[39m\u001b[34m(self, *args, **kwargs)\u001b[39m\n\u001b[32m    222\u001b[39m     \u001b[38;5;28;01melse\u001b[39;00m:\n\u001b[32m    223\u001b[39m         spinner_message = \u001b[33mf\u001b[39m\u001b[33m\"\u001b[39m\u001b[33mRunning `\u001b[39m\u001b[38;5;132;01m{\u001b[39;00mname\u001b[38;5;132;01m}\u001b[39;00m\u001b[33m(...)`.\u001b[39m\u001b[33m\"\u001b[39m\n\u001b[32m--> \u001b[39m\u001b[32m225\u001b[39m \u001b[38;5;28;01mreturn\u001b[39;00m \u001b[38;5;28;43mself\u001b[39;49m\u001b[43m.\u001b[49m\u001b[43m_get_or_create_cached_value\u001b[49m\u001b[43m(\u001b[49m\u001b[43margs\u001b[49m\u001b[43m,\u001b[49m\u001b[43m \u001b[49m\u001b[43mkwargs\u001b[49m\u001b[43m,\u001b[49m\u001b[43m \u001b[49m\u001b[43mspinner_message\u001b[49m\u001b[43m)\u001b[49m\n",
      "\u001b[36mFile \u001b[39m\u001b[32m~/Desktop/live_study/test/lib/python3.12/site-packages/streamlit/runtime/caching/cache_utils.py:267\u001b[39m, in \u001b[36mCachedFunc._get_or_create_cached_value\u001b[39m\u001b[34m(self, func_args, func_kwargs, spinner_message)\u001b[39m\n\u001b[32m    261\u001b[39m spinner_or_no_context = (\n\u001b[32m    262\u001b[39m     spinner(spinner_message, _cache=\u001b[38;5;28;01mTrue\u001b[39;00m, show_time=\u001b[38;5;28mself\u001b[39m._info.show_time)\n\u001b[32m    263\u001b[39m     \u001b[38;5;28;01mif\u001b[39;00m spinner_message \u001b[38;5;129;01mis\u001b[39;00m \u001b[38;5;129;01mnot\u001b[39;00m \u001b[38;5;28;01mNone\u001b[39;00m \u001b[38;5;129;01mand\u001b[39;00m \u001b[38;5;129;01mnot\u001b[39;00m is_nested_cache_function\n\u001b[32m    264\u001b[39m     \u001b[38;5;28;01melse\u001b[39;00m contextlib.nullcontext()\n\u001b[32m    265\u001b[39m )\n\u001b[32m    266\u001b[39m \u001b[38;5;28;01mwith\u001b[39;00m spinner_or_no_context:\n\u001b[32m--> \u001b[39m\u001b[32m267\u001b[39m     \u001b[38;5;28;01mreturn\u001b[39;00m \u001b[38;5;28;43mself\u001b[39;49m\u001b[43m.\u001b[49m\u001b[43m_handle_cache_miss\u001b[49m\u001b[43m(\u001b[49m\u001b[43mcache\u001b[49m\u001b[43m,\u001b[49m\u001b[43m \u001b[49m\u001b[43mvalue_key\u001b[49m\u001b[43m,\u001b[49m\u001b[43m \u001b[49m\u001b[43mfunc_args\u001b[49m\u001b[43m,\u001b[49m\u001b[43m \u001b[49m\u001b[43mfunc_kwargs\u001b[49m\u001b[43m)\u001b[49m\n",
      "\u001b[36mFile \u001b[39m\u001b[32m~/Desktop/live_study/test/lib/python3.12/site-packages/streamlit/runtime/caching/cache_utils.py:326\u001b[39m, in \u001b[36mCachedFunc._handle_cache_miss\u001b[39m\u001b[34m(self, cache, value_key, func_args, func_kwargs)\u001b[39m\n\u001b[32m    322\u001b[39m \u001b[38;5;66;03m# We acquired the lock before any other thread. Compute the value!\u001b[39;00m\n\u001b[32m    323\u001b[39m \u001b[38;5;28;01mwith\u001b[39;00m \u001b[38;5;28mself\u001b[39m._info.cached_message_replay_ctx.calling_cached_function(\n\u001b[32m    324\u001b[39m     \u001b[38;5;28mself\u001b[39m._info.func\n\u001b[32m    325\u001b[39m ):\n\u001b[32m--> \u001b[39m\u001b[32m326\u001b[39m     computed_value = \u001b[38;5;28;43mself\u001b[39;49m\u001b[43m.\u001b[49m\u001b[43m_info\u001b[49m\u001b[43m.\u001b[49m\u001b[43mfunc\u001b[49m\u001b[43m(\u001b[49m\u001b[43m*\u001b[49m\u001b[43mfunc_args\u001b[49m\u001b[43m,\u001b[49m\u001b[43m \u001b[49m\u001b[43m*\u001b[49m\u001b[43m*\u001b[49m\u001b[43mfunc_kwargs\u001b[49m\u001b[43m)\u001b[49m\n\u001b[32m    328\u001b[39m \u001b[38;5;66;03m# We've computed our value, and now we need to write it back to the cache\u001b[39;00m\n\u001b[32m    329\u001b[39m \u001b[38;5;66;03m# along with any \"replay messages\" that were generated during value computation.\u001b[39;00m\n\u001b[32m    330\u001b[39m messages = \u001b[38;5;28mself\u001b[39m._info.cached_message_replay_ctx._most_recent_messages\n",
      "\u001b[36mCell\u001b[39m\u001b[36m \u001b[39m\u001b[32mIn[13]\u001b[39m\u001b[32m, line 7\u001b[39m, in \u001b[36mload_vectorstore\u001b[39m\u001b[34m()\u001b[39m\n\u001b[32m      1\u001b[39m \u001b[38;5;129m@st\u001b[39m.cache_resource\n\u001b[32m      2\u001b[39m \u001b[38;5;28;01mdef\u001b[39;00m\u001b[38;5;250m \u001b[39m\u001b[34mload_vectorstore\u001b[39m():\n\u001b[32m      3\u001b[39m     embeddings = OpenAIEmbeddings(\n\u001b[32m      4\u001b[39m         model = \u001b[33m\"\u001b[39m\u001b[33mtext-embedding-3-small\u001b[39m\u001b[33m\"\u001b[39m,\n\u001b[32m      5\u001b[39m         dimensions = \u001b[32m1024\u001b[39m\n\u001b[32m      6\u001b[39m     )\n\u001b[32m----> \u001b[39m\u001b[32m7\u001b[39m     db = \u001b[43mFAISS\u001b[49m\u001b[43m.\u001b[49m\u001b[43mload_local\u001b[49m\u001b[43m(\u001b[49m\u001b[33;43m\"\u001b[39;49m\u001b[33;43mmy_faiss_index\u001b[39;49m\u001b[33;43m\"\u001b[39;49m\u001b[43m,\u001b[49m\u001b[43m \u001b[49m\u001b[43membeddings\u001b[49m\u001b[43m)\u001b[49m\n\u001b[32m      8\u001b[39m     \u001b[38;5;28;01mreturn\u001b[39;00m db\n",
      "\u001b[36mFile \u001b[39m\u001b[32m~/Desktop/live_study/test/lib/python3.12/site-packages/langchain_community/vectorstores/faiss.py:1190\u001b[39m, in \u001b[36mFAISS.load_local\u001b[39m\u001b[34m(cls, folder_path, embeddings, index_name, allow_dangerous_deserialization, **kwargs)\u001b[39m\n\u001b[32m   1176\u001b[39m \u001b[38;5;250m\u001b[39m\u001b[33;03m\"\"\"Load FAISS index, docstore, and index_to_docstore_id from disk.\u001b[39;00m\n\u001b[32m   1177\u001b[39m \n\u001b[32m   1178\u001b[39m \u001b[33;03mArgs:\u001b[39;00m\n\u001b[32m   (...)\u001b[39m\u001b[32m   1187\u001b[39m \u001b[33;03m        arbitrary code on your machine.\u001b[39;00m\n\u001b[32m   1188\u001b[39m \u001b[33;03m\"\"\"\u001b[39;00m\n\u001b[32m   1189\u001b[39m \u001b[38;5;28;01mif\u001b[39;00m \u001b[38;5;129;01mnot\u001b[39;00m allow_dangerous_deserialization:\n\u001b[32m-> \u001b[39m\u001b[32m1190\u001b[39m     \u001b[38;5;28;01mraise\u001b[39;00m \u001b[38;5;167;01mValueError\u001b[39;00m(\n\u001b[32m   1191\u001b[39m         \u001b[33m\"\u001b[39m\u001b[33mThe de-serialization relies loading a pickle file. \u001b[39m\u001b[33m\"\u001b[39m\n\u001b[32m   1192\u001b[39m         \u001b[33m\"\u001b[39m\u001b[33mPickle files can be modified to deliver a malicious payload that \u001b[39m\u001b[33m\"\u001b[39m\n\u001b[32m   1193\u001b[39m         \u001b[33m\"\u001b[39m\u001b[33mresults in execution of arbitrary code on your machine.\u001b[39m\u001b[33m\"\u001b[39m\n\u001b[32m   1194\u001b[39m         \u001b[33m\"\u001b[39m\u001b[33mYou will need to set `allow_dangerous_deserialization` to `True` to \u001b[39m\u001b[33m\"\u001b[39m\n\u001b[32m   1195\u001b[39m         \u001b[33m\"\u001b[39m\u001b[33menable deserialization. If you do this, make sure that you \u001b[39m\u001b[33m\"\u001b[39m\n\u001b[32m   1196\u001b[39m         \u001b[33m\"\u001b[39m\u001b[33mtrust the source of the data. For example, if you are loading a \u001b[39m\u001b[33m\"\u001b[39m\n\u001b[32m   1197\u001b[39m         \u001b[33m\"\u001b[39m\u001b[33mfile that you created, and know that no one else has modified the \u001b[39m\u001b[33m\"\u001b[39m\n\u001b[32m   1198\u001b[39m         \u001b[33m\"\u001b[39m\u001b[33mfile, then this is safe to do. Do not set this to `True` if you are \u001b[39m\u001b[33m\"\u001b[39m\n\u001b[32m   1199\u001b[39m         \u001b[33m\"\u001b[39m\u001b[33mloading a file from an untrusted source (e.g., some random site on \u001b[39m\u001b[33m\"\u001b[39m\n\u001b[32m   1200\u001b[39m         \u001b[33m\"\u001b[39m\u001b[33mthe internet.).\u001b[39m\u001b[33m\"\u001b[39m\n\u001b[32m   1201\u001b[39m     )\n\u001b[32m   1202\u001b[39m path = Path(folder_path)\n\u001b[32m   1203\u001b[39m \u001b[38;5;66;03m# load index separately since it is not picklable\u001b[39;00m\n",
      "\u001b[31mValueError\u001b[39m: The de-serialization relies loading a pickle file. Pickle files can be modified to deliver a malicious payload that results in execution of arbitrary code on your machine.You will need to set `allow_dangerous_deserialization` to `True` to enable deserialization. If you do this, make sure that you trust the source of the data. For example, if you are loading a file that you created, and know that no one else has modified the file, then this is safe to do. Do not set this to `True` if you are loading a file from an untrusted source (e.g., some random site on the internet.)."
     ]
    }
   ],
   "source": [
    "@st.cache_resource\n",
    "def load_vectorstore():\n",
    "    embeddings = OpenAIEmbeddings(\n",
    "        model = \"text-embedding-3-small\",\n",
    "        dimensions = 1024\n",
    "    )\n",
    "    db = FAISS.load_local(\"my_faiss_index\", embeddings)\n",
    "    return db\n",
    "\n",
    "df = load_vectorstore()"
   ]
  },
  {
   "cell_type": "markdown",
   "id": "92092b60",
   "metadata": {},
   "source": [
    "## streamlit 구현"
   ]
  },
  {
   "cell_type": "code",
   "execution_count": null,
   "id": "1b2949cb",
   "metadata": {},
   "outputs": [],
   "source": [
    "st.title(\"🏦💸재테크 전략 도우미 Chatbot🧠\")\n",
    "\n",
    "# 대화 히스토리를 session state에 저장\n",
    "if \"chat_history\" not in st.session_state:\n",
    "    st.session_state[\"chat_history\"] = []\n",
    "\n",
    "# 사용자가 입력할 챗봇 프롬프트\n",
    "user_input = st.text_input(\"메세지를 입력하세요\", key=\"user_input\")\n",
    "\n",
    "# 채팅 실행 버튼\n",
    "if st.button(\"전송\") and user_input.strip():\n",
    "    qa = RetrievalQA.from_chain_type(\n",
    "        llm=ChatOpenAI(model=\"gpt-4.1-mini\"),\n",
    "        retriever=db.as_retriever()\n",
    "    )\n",
    "    with st.spinner(\"답변을 생성하는 중...\"):\n",
    "        answer = qa"
   ]
  }
 ],
 "metadata": {
  "kernelspec": {
   "display_name": "test",
   "language": "python",
   "name": "python3"
  },
  "language_info": {
   "codemirror_mode": {
    "name": "ipython",
    "version": 3
   },
   "file_extension": ".py",
   "mimetype": "text/x-python",
   "name": "python",
   "nbconvert_exporter": "python",
   "pygments_lexer": "ipython3",
   "version": "3.12.2"
  }
 },
 "nbformat": 4,
 "nbformat_minor": 5
}
